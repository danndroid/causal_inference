{
 "cells": [
  {
   "cell_type": "code",
   "execution_count": 1,
   "id": "7cc34562-238b-47d8-a7bd-bd6bf414d538",
   "metadata": {},
   "outputs": [
    {
     "name": "stderr",
     "output_type": "stream",
     "text": [
      "/home/warrior/miniconda3/envs/inference/lib/python3.9/site-packages/tqdm/auto.py:22: TqdmWarning: IProgress not found. Please update jupyter and ipywidgets. See https://ipywidgets.readthedocs.io/en/stable/user_install.html\n",
      "  from .autonotebook import tqdm as notebook_tqdm\n"
     ]
    }
   ],
   "source": [
    "import numpy as np\n",
    "import torch\n",
    "import pyro\n",
    "\n",
    "from pgmpy.factors.discrete import DiscreteFactor\n",
    "from pyro.distributions import Bernoulli, Categorical, Gamma, Normal, Poisson"
   ]
  },
  {
   "cell_type": "code",
   "execution_count": 2,
   "id": "5c0f267c-ad72-4d65-ac09-d912746e1c1f",
   "metadata": {},
   "outputs": [],
   "source": [
    "def model():\n",
    "    z = pyro.sample('z', Gamma(7.5, 1.0))\n",
    "    x = pyro.sample('x', Poisson(z))\n",
    "    with pyro.plate('IID', 10):\n",
    "        y = pyro.sample('y', Bernoulli(x/(5+x)))\n",
    "    return y"
   ]
  },
  {
   "cell_type": "code",
   "execution_count": 3,
   "id": "5de49d07-9bfd-4878-bf61-fd92fd91b9fc",
   "metadata": {},
   "outputs": [
    {
     "data": {
      "text/plain": [
       "tensor([0., 1., 0., 0., 0., 1., 1., 1., 0., 1.])"
      ]
     },
     "execution_count": 3,
     "metadata": {},
     "output_type": "execute_result"
    }
   ],
   "source": [
    "model()"
   ]
  },
  {
   "cell_type": "code",
   "execution_count": null,
   "id": "1b35168e-ef58-4aaa-b6fc-50e32e7200fd",
   "metadata": {},
   "outputs": [],
   "source": []
  }
 ],
 "metadata": {
  "kernelspec": {
   "display_name": "Python 3",
   "language": "python",
   "name": "python3"
  },
  "language_info": {
   "codemirror_mode": {
    "name": "ipython",
    "version": 3
   },
   "file_extension": ".py",
   "mimetype": "text/x-python",
   "name": "python",
   "nbconvert_exporter": "python",
   "pygments_lexer": "ipython3",
   "version": "3.9.0"
  }
 },
 "nbformat": 4,
 "nbformat_minor": 5
}

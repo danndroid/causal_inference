{
 "cells": [
  {
   "cell_type": "code",
   "execution_count": 2,
   "id": "b1b7533f-8422-4af0-8da8-d774c0180979",
   "metadata": {},
   "outputs": [],
   "source": [
    "import pandas as pd\n",
    "from pgmpy.models import BayesianNetwork\n",
    "from pgmpy.estimators import BayesianEstimator"
   ]
  },
  {
   "cell_type": "code",
   "execution_count": 3,
   "id": "867a9028-ac48-43f3-af95-1e0c79de52e2",
   "metadata": {},
   "outputs": [
    {
     "data": {
      "text/html": [
       "<div>\n",
       "<style scoped>\n",
       "    .dataframe tbody tr th:only-of-type {\n",
       "        vertical-align: middle;\n",
       "    }\n",
       "\n",
       "    .dataframe tbody tr th {\n",
       "        vertical-align: top;\n",
       "    }\n",
       "\n",
       "    .dataframe thead th {\n",
       "        text-align: right;\n",
       "    }\n",
       "</style>\n",
       "<table border=\"1\" class=\"dataframe\">\n",
       "  <thead>\n",
       "    <tr style=\"text-align: right;\">\n",
       "      <th></th>\n",
       "      <th>A</th>\n",
       "      <th>S</th>\n",
       "      <th>E</th>\n",
       "      <th>O</th>\n",
       "      <th>R</th>\n",
       "      <th>T</th>\n",
       "    </tr>\n",
       "  </thead>\n",
       "  <tbody>\n",
       "    <tr>\n",
       "      <th>0</th>\n",
       "      <td>adult</td>\n",
       "      <td>F</td>\n",
       "      <td>high</td>\n",
       "      <td>emp</td>\n",
       "      <td>small</td>\n",
       "      <td>train</td>\n",
       "    </tr>\n",
       "    <tr>\n",
       "      <th>1</th>\n",
       "      <td>young</td>\n",
       "      <td>M</td>\n",
       "      <td>high</td>\n",
       "      <td>emp</td>\n",
       "      <td>big</td>\n",
       "      <td>car</td>\n",
       "    </tr>\n",
       "    <tr>\n",
       "      <th>2</th>\n",
       "      <td>adult</td>\n",
       "      <td>M</td>\n",
       "      <td>uni</td>\n",
       "      <td>emp</td>\n",
       "      <td>big</td>\n",
       "      <td>other</td>\n",
       "    </tr>\n",
       "  </tbody>\n",
       "</table>\n",
       "</div>"
      ],
      "text/plain": [
       "       A  S     E    O      R      T\n",
       "0  adult  F  high  emp  small  train\n",
       "1  young  M  high  emp    big    car\n",
       "2  adult  M   uni  emp    big  other"
      ]
     },
     "execution_count": 3,
     "metadata": {},
     "output_type": "execute_result"
    }
   ],
   "source": [
    "url = 'https://raw.githubusercontent.com/altdeep/causalML/master/datasets/transportation_survey.csv'\n",
    "\n",
    "data =  pd.read_csv(url)\n",
    "data.head(3)"
   ]
  },
  {
   "cell_type": "code",
   "execution_count": 4,
   "id": "08fa795a-f6a3-4a68-a53e-3aa38560622d",
   "metadata": {},
   "outputs": [
    {
     "data": {
      "text/plain": [
       "[<TabularCPD representing P(A:3) at 0x7f9ae42f9910>,\n",
       " <TabularCPD representing P(E:2 | A:3, S:2) at 0x7f9ae4222dc0>,\n",
       " <TabularCPD representing P(S:2) at 0x7f9aa05eba30>,\n",
       " <TabularCPD representing P(O:2 | E:2) at 0x7f9aa05892b0>,\n",
       " <TabularCPD representing P(R:2 | E:2) at 0x7f9aa06845b0>,\n",
       " <TabularCPD representing P(T:3 | O:2, R:2) at 0x7f9aa06847f0>]"
      ]
     },
     "execution_count": 4,
     "metadata": {},
     "output_type": "execute_result"
    }
   ],
   "source": [
    "model = BayesianNetwork(\n",
    "    [\n",
    "    ('A', 'E'),\n",
    "    ('S', 'E'),\n",
    "    ('E', 'O'),\n",
    "    ('E', 'R'),\n",
    "    ('O', 'T'),\n",
    "    ('R', 'T')\n",
    "    ]\n",
    "    )\n",
    "\n",
    "model.fit(data) # Only estimates p(x) as the frequency for each class\n",
    "causal_markov_kernels = model.get_cpds()\n",
    "causal_markov_kernels"
   ]
  },
  {
   "cell_type": "code",
   "execution_count": 5,
   "id": "f474d9c4-f6fe-4000-b2a8-ab25d0a71b84",
   "metadata": {},
   "outputs": [
    {
     "name": "stdout",
     "output_type": "stream",
     "text": [
      "+----------+---------------------+---------------------+--------------------+----------+\n",
      "| O        | O(emp)              | O(emp)              | O(self)            | O(self)  |\n",
      "+----------+---------------------+---------------------+--------------------+----------+\n",
      "| R        | R(big)              | R(small)            | R(big)             | R(small) |\n",
      "+----------+---------------------+---------------------+--------------------+----------+\n",
      "| T(car)   | 0.7034313725490197  | 0.524390243902439   | 0.4444444444444444 | 1.0      |\n",
      "+----------+---------------------+---------------------+--------------------+----------+\n",
      "| T(other) | 0.13480392156862744 | 0.08536585365853659 | 0.3333333333333333 | 0.0      |\n",
      "+----------+---------------------+---------------------+--------------------+----------+\n",
      "| T(train) | 0.16176470588235295 | 0.3902439024390244  | 0.2222222222222222 | 0.0      |\n",
      "+----------+---------------------+---------------------+--------------------+----------+\n"
     ]
    }
   ],
   "source": [
    "cmk = causal_markov_kernels[5]\n",
    "print(cmk)"
   ]
  },
  {
   "cell_type": "code",
   "execution_count": 6,
   "id": "84c2f1c3-97a9-4710-8618-4ee9a2787dfb",
   "metadata": {},
   "outputs": [],
   "source": [
    "estimator = BayesianEstimator(model, data)\n",
    "\n",
    "model.fit(data,\n",
    "          estimator=BayesianEstimator,\n",
    "          prior_type=\"dirichlet\",\n",
    "          pseudo_counts=1\n",
    "         )\n",
    "\n",
    "causal_markov_kernels = model.get_cpds()\n",
    "cmk_Prior = causal_markov_kernels[5]"
   ]
  },
  {
   "cell_type": "code",
   "execution_count": 7,
   "id": "1def374a-cf4e-4bc5-9edb-16c42413724a",
   "metadata": {},
   "outputs": [
    {
     "name": "stdout",
     "output_type": "stream",
     "text": [
      "+----------+--------------------+---------------------+--------------------+----------+\n",
      "| O        | O(emp)             | O(emp)              | O(self)            | O(self)  |\n",
      "+----------+--------------------+---------------------+--------------------+----------+\n",
      "| R        | R(big)             | R(small)            | R(big)             | R(small) |\n",
      "+----------+--------------------+---------------------+--------------------+----------+\n",
      "| T(car)   | 0.7007299270072993 | 0.5176470588235295  | 0.4166666666666667 | 0.5      |\n",
      "+----------+--------------------+---------------------+--------------------+----------+\n",
      "| T(other) | 0.1362530413625304 | 0.09411764705882353 | 0.3333333333333333 | 0.25     |\n",
      "+----------+--------------------+---------------------+--------------------+----------+\n",
      "| T(train) | 0.1630170316301703 | 0.38823529411764707 | 0.25               | 0.25     |\n",
      "+----------+--------------------+---------------------+--------------------+----------+\n"
     ]
    }
   ],
   "source": [
    "print(cmk_Prior)"
   ]
  },
  {
   "cell_type": "code",
   "execution_count": null,
   "id": "94873e5f-9eed-4d9e-9750-c5bd135ff9d0",
   "metadata": {},
   "outputs": [],
   "source": []
  },
  {
   "cell_type": "code",
   "execution_count": 10,
   "id": "1db1e37a-b992-4002-bb71-ac60f6b6b57e",
   "metadata": {},
   "outputs": [
    {
     "data": {
      "image/svg+xml": [
       "<?xml version=\"1.0\" encoding=\"UTF-8\" standalone=\"no\"?>\n",
       "<!DOCTYPE svg PUBLIC \"-//W3C//DTD SVG 1.1//EN\"\n",
       " \"http://www.w3.org/Graphics/SVG/1.1/DTD/svg11.dtd\">\n",
       "<!-- Generated by graphviz version 2.50.0 (0)\n",
       " -->\n",
       "<!-- Pages: 1 -->\n",
       "<svg width=\"260pt\" height=\"260pt\"\n",
       " viewBox=\"0.00 0.00 259.99 260.00\" xmlns=\"http://www.w3.org/2000/svg\" xmlns:xlink=\"http://www.w3.org/1999/xlink\">\n",
       "<g id=\"graph0\" class=\"graph\" transform=\"scale(1 1) rotate(0) translate(4 256)\">\n",
       "<polygon fill=\"white\" stroke=\"transparent\" points=\"-4,4 -4,-256 255.99,-256 255.99,4 -4,4\"/>\n",
       "<!-- age -->\n",
       "<g id=\"node1\" class=\"node\">\n",
       "<title>age</title>\n",
       "<ellipse fill=\"white\" stroke=\"black\" cx=\"84.09\" cy=\"-234\" rx=\"27.1\" ry=\"18\"/>\n",
       "<text text-anchor=\"middle\" x=\"84.09\" y=\"-230.3\" font-family=\"Times,serif\" font-size=\"14.00\">age</text>\n",
       "</g>\n",
       "<!-- education -->\n",
       "<g id=\"node3\" class=\"node\">\n",
       "<title>education</title>\n",
       "<ellipse fill=\"white\" stroke=\"black\" cx=\"128.09\" cy=\"-162\" rx=\"55.79\" ry=\"18\"/>\n",
       "<text text-anchor=\"middle\" x=\"128.09\" y=\"-158.3\" font-family=\"Times,serif\" font-size=\"14.00\">education</text>\n",
       "</g>\n",
       "<!-- age&#45;&gt;education -->\n",
       "<g id=\"edge2\" class=\"edge\">\n",
       "<title>age&#45;&gt;education</title>\n",
       "<path fill=\"none\" stroke=\"black\" d=\"M94.08,-217.12C99.38,-208.68 106.03,-198.1 112.04,-188.55\"/>\n",
       "<polygon fill=\"black\" stroke=\"black\" points=\"115.18,-190.13 117.54,-179.8 109.25,-186.4 115.18,-190.13\"/>\n",
       "</g>\n",
       "<!-- gender -->\n",
       "<g id=\"node2\" class=\"node\">\n",
       "<title>gender</title>\n",
       "<ellipse fill=\"white\" stroke=\"black\" cx=\"173.09\" cy=\"-234\" rx=\"43.59\" ry=\"18\"/>\n",
       "<text text-anchor=\"middle\" x=\"173.09\" y=\"-230.3\" font-family=\"Times,serif\" font-size=\"14.00\">gender</text>\n",
       "</g>\n",
       "<!-- gender&#45;&gt;education -->\n",
       "<g id=\"edge1\" class=\"edge\">\n",
       "<title>gender&#45;&gt;education</title>\n",
       "<path fill=\"none\" stroke=\"black\" d=\"M162.43,-216.41C157.07,-208.08 150.46,-197.8 144.48,-188.49\"/>\n",
       "<polygon fill=\"black\" stroke=\"black\" points=\"147.35,-186.48 139,-179.96 141.46,-190.26 147.35,-186.48\"/>\n",
       "</g>\n",
       "<!-- occupation -->\n",
       "<g id=\"node4\" class=\"node\">\n",
       "<title>occupation</title>\n",
       "<ellipse fill=\"white\" stroke=\"black\" cx=\"61.09\" cy=\"-90\" rx=\"61.19\" ry=\"18\"/>\n",
       "<text text-anchor=\"middle\" x=\"61.09\" y=\"-86.3\" font-family=\"Times,serif\" font-size=\"14.00\">occupation</text>\n",
       "</g>\n",
       "<!-- education&#45;&gt;occupation -->\n",
       "<g id=\"edge3\" class=\"edge\">\n",
       "<title>education&#45;&gt;occupation</title>\n",
       "<path fill=\"none\" stroke=\"black\" d=\"M112.22,-144.41C103.79,-135.61 93.28,-124.63 83.99,-114.92\"/>\n",
       "<polygon fill=\"black\" stroke=\"black\" points=\"86.3,-112.27 76.86,-107.47 81.24,-117.11 86.3,-112.27\"/>\n",
       "</g>\n",
       "<!-- residence -->\n",
       "<g id=\"node5\" class=\"node\">\n",
       "<title>residence</title>\n",
       "<ellipse fill=\"white\" stroke=\"black\" cx=\"196.09\" cy=\"-90\" rx=\"55.79\" ry=\"18\"/>\n",
       "<text text-anchor=\"middle\" x=\"196.09\" y=\"-86.3\" font-family=\"Times,serif\" font-size=\"14.00\">residence</text>\n",
       "</g>\n",
       "<!-- education&#45;&gt;residence -->\n",
       "<g id=\"edge4\" class=\"edge\">\n",
       "<title>education&#45;&gt;residence</title>\n",
       "<path fill=\"none\" stroke=\"black\" d=\"M144.21,-144.41C152.76,-135.61 163.43,-124.63 172.86,-114.92\"/>\n",
       "<polygon fill=\"black\" stroke=\"black\" points=\"175.64,-117.08 180.1,-107.47 170.62,-112.2 175.64,-117.08\"/>\n",
       "</g>\n",
       "<!-- transportation -->\n",
       "<g id=\"node6\" class=\"node\">\n",
       "<title>transportation</title>\n",
       "<ellipse fill=\"white\" stroke=\"black\" cx=\"128.09\" cy=\"-18\" rx=\"77.99\" ry=\"18\"/>\n",
       "<text text-anchor=\"middle\" x=\"128.09\" y=\"-14.3\" font-family=\"Times,serif\" font-size=\"14.00\">transportation</text>\n",
       "</g>\n",
       "<!-- occupation&#45;&gt;transportation -->\n",
       "<g id=\"edge5\" class=\"edge\">\n",
       "<title>occupation&#45;&gt;transportation</title>\n",
       "<path fill=\"none\" stroke=\"black\" d=\"M76.97,-72.41C85.28,-63.73 95.6,-52.95 104.8,-43.34\"/>\n",
       "<polygon fill=\"black\" stroke=\"black\" points=\"107.48,-45.6 111.87,-35.96 102.42,-40.76 107.48,-45.6\"/>\n",
       "</g>\n",
       "<!-- residence&#45;&gt;transportation -->\n",
       "<g id=\"edge6\" class=\"edge\">\n",
       "<title>residence&#45;&gt;transportation</title>\n",
       "<path fill=\"none\" stroke=\"black\" d=\"M179.98,-72.41C171.55,-63.73 161.07,-52.95 151.74,-43.34\"/>\n",
       "<polygon fill=\"black\" stroke=\"black\" points=\"154.04,-40.69 144.57,-35.96 149.02,-45.57 154.04,-40.69\"/>\n",
       "</g>\n",
       "</g>\n",
       "</svg>\n"
      ],
      "text/plain": [
       "<graphviz.graphs.Digraph at 0x7f9a9fff1520>"
      ]
     },
     "execution_count": 10,
     "metadata": {},
     "output_type": "execute_result"
    }
   ],
   "source": [
    "import torch\n",
    "import pyro\n",
    "from pyro.distributions import Categorical\n",
    "A_alias = ['young', 'adult', 'old']\n",
    "S_alias = ['M', 'F']\n",
    "E_alias = ['high', 'uni']\n",
    "O_alias = ['emp', 'self']\n",
    "R_alias = ['small', 'big']\n",
    "T_alias = ['car', 'train', 'other']\n",
    "\n",
    "A_prob = torch.tensor([0.3,0.5,0.2])\n",
    "S_prob = torch.tensor([0.6,0.4])\n",
    "E_prob = torch.tensor([[[0.75,0.25], [0.72,0.28], [0.88,0.12]], # 3X2\n",
    "                       [[0.64,0.36], [0.7,0.3], [0.9,0.1]]])\n",
    "O_prob = torch.tensor([[0.96,0.04], [0.92,0.08]])\n",
    "R_prob = torch.tensor([[0.25,0.75], [0.2,0.8]])\n",
    "T_prob = torch.tensor([[[0.48,0.42,0.1], [0.56,0.36,0.08]],\n",
    "                       [[0.58,0.24,0.18], [0.7,0.21,0.09]]])\n",
    "\n",
    "def model():\n",
    "    A = pyro.sample(\"age\", Categorical(probs=A_prob)) \n",
    "    S = pyro.sample(\"gender\", Categorical(probs=S_prob)) \n",
    "    E = pyro.sample(\"education\", Categorical(probs=E_prob[S][A])) \n",
    "    O = pyro.sample(\"occupation\", Categorical(probs=O_prob[E]))\n",
    "    R = pyro.sample(\"residence\", Categorical(probs=R_prob[E]))\n",
    "    T = pyro.sample(\"transportation\", Categorical(probs=T_prob[R][O])) \n",
    "    return{'A': A,'S': S,'E': E,'O': O,'R': R,'T': T} \n",
    "\n",
    "pyro.render_model(model)"
   ]
  },
  {
   "cell_type": "code",
   "execution_count": null,
   "id": "ba450184-36ee-4cb9-935d-9e8519ae72a8",
   "metadata": {},
   "outputs": [],
   "source": []
  }
 ],
 "metadata": {
  "kernelspec": {
   "display_name": "Python 3",
   "language": "python",
   "name": "python3"
  },
  "language_info": {
   "codemirror_mode": {
    "name": "ipython",
    "version": 3
   },
   "file_extension": ".py",
   "mimetype": "text/x-python",
   "name": "python",
   "nbconvert_exporter": "python",
   "pygments_lexer": "ipython3",
   "version": "3.9.0"
  }
 },
 "nbformat": 4,
 "nbformat_minor": 5
}

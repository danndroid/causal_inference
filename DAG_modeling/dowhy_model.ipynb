{
 "cells": [
  {
   "cell_type": "code",
   "execution_count": 8,
   "id": "2f159607-a89b-4e7d-a7d6-1225808f8768",
   "metadata": {},
   "outputs": [],
   "source": [
    "import pandas as pd\n",
    "from dowhy import datasets\n",
    "import networkx as nx\n",
    "import matplotlib.pyplot as plt"
   ]
  },
  {
   "cell_type": "code",
   "execution_count": 11,
   "id": "cd684801-39b3-416b-8c29-86b427cea1ea",
   "metadata": {},
   "outputs": [
    {
     "data": {
      "text/plain": [
       "dict_keys(['df', 'treatment_name', 'outcome_name', 'common_causes_names', 'instrument_names', 'effect_modifier_names', 'frontdoor_variables_names', 'dot_graph', 'gml_graph', 'ate'])"
      ]
     },
     "execution_count": 11,
     "metadata": {},
     "output_type": "execute_result"
    }
   ],
   "source": [
    "sim_data = datasets.linear_dataset( # Linear ?\n",
    "beta=10.0, # true average causal effect\n",
    "num_treatments=1,\n",
    "num_instruments=2,\n",
    "num_effect_modifiers=2,\n",
    "num_common_causes=5,\n",
    "num_frontdoor_variables=1,\n",
    "num_samples=100,\n",
    ")\n",
    "sim_data.keys()"
   ]
  },
  {
   "cell_type": "code",
   "execution_count": 13,
   "id": "98b2f36f-77ed-44c4-b4a0-ae5d82052d6a",
   "metadata": {},
   "outputs": [
    {
     "data": {
      "text/html": [
       "<div>\n",
       "<style scoped>\n",
       "    .dataframe tbody tr th:only-of-type {\n",
       "        vertical-align: middle;\n",
       "    }\n",
       "\n",
       "    .dataframe tbody tr th {\n",
       "        vertical-align: top;\n",
       "    }\n",
       "\n",
       "    .dataframe thead th {\n",
       "        text-align: right;\n",
       "    }\n",
       "</style>\n",
       "<table border=\"1\" class=\"dataframe\">\n",
       "  <thead>\n",
       "    <tr style=\"text-align: right;\">\n",
       "      <th></th>\n",
       "      <th>FD0</th>\n",
       "      <th>X0</th>\n",
       "      <th>X1</th>\n",
       "      <th>Z0</th>\n",
       "      <th>Z1</th>\n",
       "      <th>W0</th>\n",
       "      <th>W1</th>\n",
       "      <th>W2</th>\n",
       "      <th>W3</th>\n",
       "      <th>W4</th>\n",
       "      <th>v0</th>\n",
       "      <th>y</th>\n",
       "    </tr>\n",
       "  </thead>\n",
       "  <tbody>\n",
       "    <tr>\n",
       "      <th>0</th>\n",
       "      <td>3.912252</td>\n",
       "      <td>1.674751</td>\n",
       "      <td>-0.827216</td>\n",
       "      <td>1.0</td>\n",
       "      <td>0.628988</td>\n",
       "      <td>1.623015</td>\n",
       "      <td>0.681537</td>\n",
       "      <td>-0.022340</td>\n",
       "      <td>0.769445</td>\n",
       "      <td>-0.269681</td>\n",
       "      <td>True</td>\n",
       "      <td>24.646159</td>\n",
       "    </tr>\n",
       "    <tr>\n",
       "      <th>1</th>\n",
       "      <td>0.703449</td>\n",
       "      <td>-0.925608</td>\n",
       "      <td>0.527348</td>\n",
       "      <td>1.0</td>\n",
       "      <td>0.429337</td>\n",
       "      <td>-1.055845</td>\n",
       "      <td>-0.396054</td>\n",
       "      <td>0.043778</td>\n",
       "      <td>-0.033023</td>\n",
       "      <td>0.218608</td>\n",
       "      <td>True</td>\n",
       "      <td>-5.307814</td>\n",
       "    </tr>\n",
       "    <tr>\n",
       "      <th>2</th>\n",
       "      <td>1.272980</td>\n",
       "      <td>-1.951193</td>\n",
       "      <td>0.663858</td>\n",
       "      <td>0.0</td>\n",
       "      <td>0.066806</td>\n",
       "      <td>-0.342197</td>\n",
       "      <td>-0.959499</td>\n",
       "      <td>0.325385</td>\n",
       "      <td>0.869365</td>\n",
       "      <td>0.855950</td>\n",
       "      <td>True</td>\n",
       "      <td>-0.411541</td>\n",
       "    </tr>\n",
       "  </tbody>\n",
       "</table>\n",
       "</div>"
      ],
      "text/plain": [
       "        FD0        X0        X1   Z0        Z1        W0        W1        W2  \\\n",
       "0  3.912252  1.674751 -0.827216  1.0  0.628988  1.623015  0.681537 -0.022340   \n",
       "1  0.703449 -0.925608  0.527348  1.0  0.429337 -1.055845 -0.396054  0.043778   \n",
       "2  1.272980 -1.951193  0.663858  0.0  0.066806 -0.342197 -0.959499  0.325385   \n",
       "\n",
       "         W3        W4    v0          y  \n",
       "0  0.769445 -0.269681  True  24.646159  \n",
       "1 -0.033023  0.218608  True  -5.307814  \n",
       "2  0.869365  0.855950  True  -0.411541  "
      ]
     },
     "execution_count": 13,
     "metadata": {},
     "output_type": "execute_result"
    }
   ],
   "source": [
    "pd.DataFrame(sim_data['df']).head(3)"
   ]
  },
  {
   "cell_type": "code",
   "execution_count": 5,
   "id": "11ac4cf8-4393-4330-ac5e-b8b490901c20",
   "metadata": {},
   "outputs": [],
   "source": [
    "dag = nx.parse_gml(sim_data['gml_graph']) #Graph Modeling Language (string~SMILES)\n",
    "pos = {    # node positions on the plot\n",
    " 'X0': (600, 350),   \n",
    " 'X1': (600, 250),   \n",
    " 'FD0': (300, 300),    \n",
    " 'W0': (0, 400),    \n",
    " 'W1': (150, 400),    \n",
    " 'W2': (300, 400),    \n",
    " 'W3': (450, 400),    \n",
    " 'W4': (600, 400),    \n",
    " 'Z0': (10, 250),    \n",
    " 'Z1': (10, 350),    \n",
    " 'v0': (100, 300),    \n",
    " 'y': (500, 300)    \n",
    "}    "
   ]
  },
  {
   "cell_type": "code",
   "execution_count": 6,
   "id": "8eedb565-068b-469c-b7fd-9af4f8eb861e",
   "metadata": {},
   "outputs": [],
   "source": [
    "options = {    \n",
    "    \"font_size\": 12,    \n",
    "    \"node_size\": 800,    \n",
    "    \"node_color\": \"white\",    \n",
    "    \"edgecolors\": \"black\",    \n",
    "    \"linewidths\": 1,    \n",
    "    \"width\": 1,    \n",
    "} "
   ]
  },
  {
   "cell_type": "code",
   "execution_count": 7,
   "id": "4940d2c3-9124-4545-a508-491809dcf609",
   "metadata": {},
   "outputs": [
    {
     "data": {
      "image/png": "[encoded data removed]",
      "text/plain": [
       "<Figure size 432x288 with 1 Axes>"
      ]
     },
     "metadata": {},
     "output_type": "display_data"
    }
   ],
   "source": [
    "nx.draw_networkx(dag, pos, **options)   \n",
    "ax = plt.gca()    \n",
    "ax.margins(x=0.40)    \n",
    "plt.axis(\"off\")    \n",
    "plt.show()"
   ]
  },
  {
   "cell_type": "code",
   "execution_count": null,
   "id": "3a0d159e-275a-43b0-8064-74133e629c17",
   "metadata": {},
   "outputs": [],
   "source": []
  }
 ],
 "metadata": {
  "kernelspec": {
   "display_name": "Python 3",
   "language": "python",
   "name": "python3"
  },
  "language_info": {
   "codemirror_mode": {
    "name": "ipython",
    "version": 3
   },
   "file_extension": ".py",
   "mimetype": "text/x-python",
   "name": "python",
   "nbconvert_exporter": "python",
   "pygments_lexer": "ipython3",
   "version": "3.9.0"
  }
 },
 "nbformat": 4,
 "nbformat_minor": 5
}
